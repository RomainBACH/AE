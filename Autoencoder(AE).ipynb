{
 "cells": [
  {
   "cell_type": "markdown",
   "id": "56b28882",
   "metadata": {},
   "source": [
    "## Load useful libraries"
   ]
  },
  {
   "cell_type": "code",
   "execution_count": 1,
   "id": "bc66dda8",
   "metadata": {},
   "outputs": [],
   "source": [
    "import numpy as np\n",
    "from skimage import io\n",
    "import random\n",
    "import matplotlib.pyplot as plt\n",
    "\n",
    "import tensorflow as tf\n",
    "from tensorflow import keras\n",
    "from tensorflow.keras import layers\n",
    "from tensorflow.keras.callbacks import ModelCheckpoint\n",
    "from tensorflow.keras.callbacks import Callback\n",
    "\n",
    "\n",
    "import h5py\n",
    "import os"
   ]
  },
  {
   "cell_type": "markdown",
   "id": "7f998104",
   "metadata": {},
   "source": [
    "## Parameters"
   ]
  },
  {
   "cell_type": "code",
   "execution_count": 2,
   "id": "b045ad35",
   "metadata": {},
   "outputs": [],
   "source": [
    "prepared_dataset = './data/mnist-noisy.h5'\n",
    "model_directory  = './models'\n",
    "\n",
    "latent_dim       = 10\n",
    "\n",
    "train_prop       = .8\n",
    "batch_size       = 128\n",
    "epochs           = 30\n",
    "fit_verbosity    = 1"
   ]
  },
  {
   "cell_type": "markdown",
   "id": "9ed05917",
   "metadata": {},
   "source": [
    "## Retrieve the dataset"
   ]
  },
  {
   "cell_type": "code",
   "execution_count": 3,
   "id": "9672fff6",
   "metadata": {},
   "outputs": [],
   "source": [
    "def reload_prepared_dataset(train_prop=0.8, shuffle=True, seed=False, filename='./data/mnist-noisy.h5'):\n",
    "\n",
    "    # Load saved dataset\n",
    "    with  h5py.File(filename,'r') as f:\n",
    "        clean_data  = f['clean_data'][:]\n",
    "        noisy_data  = f['noisy_data'][:]\n",
    "        class_data  = f['class_data'][:]\n",
    "    print('Loaded.')\n",
    "\n",
    "    # ---- Shuffle\n",
    "    #\n",
    "    if shuffle:\n",
    "        p = np.random.permutation(len(clean_data))\n",
    "        clean_data, noisy_data, class_data = clean_data[p], noisy_data[p], class_data[p]\n",
    "        print('Shuffled.')\n",
    "\n",
    "    # ---- Split\n",
    "    #\n",
    "    n=int(len(clean_data)*train_prop)\n",
    "    clean_train, clean_test = clean_data[:n], clean_data[n:]\n",
    "    noisy_train, noisy_test = noisy_data[:n], noisy_data[n:]\n",
    "    class_train, class_test = class_data[:n], class_data[n:]\n",
    "    print(f'splited ({train_prop}).') \n",
    "\n",
    "\n",
    "    print('clean_train shape is : ', clean_train.shape)\n",
    "    print('clean_test  shape is : ', clean_test.shape)\n",
    "    print('noisy_train shape is : ', noisy_train.shape)\n",
    "    print('noisy_test  shape is : ', noisy_test.shape)\n",
    "    print('class_train shape is : ', class_train.shape)\n",
    "    print('class_test  shape is : ', class_test.shape)\n",
    "    return  clean_train,clean_test, noisy_train,noisy_test, class_train,class_test"
   ]
  },
  {
   "cell_type": "code",
   "execution_count": 4,
   "id": "db0503c0",
   "metadata": {},
   "outputs": [
    {
     "name": "stdout",
     "output_type": "stream",
     "text": [
      "Loaded.\n",
      "Shuffled.\n",
      "splited (0.8).\n",
      "clean_train shape is :  (56000, 28, 28, 1)\n",
      "clean_test  shape is :  (14000, 28, 28, 1)\n",
      "noisy_train shape is :  (56000, 28, 28, 1)\n",
      "noisy_test  shape is :  (14000, 28, 28, 1)\n",
      "class_train shape is :  (56000,)\n",
      "class_test  shape is :  (14000,)\n"
     ]
    }
   ],
   "source": [
    "clean_train,clean_test, noisy_train,noisy_test, class_train, class_test= reload_prepared_dataset(shuffle = True, filename=prepared_dataset )"
   ]
  },
  {
   "cell_type": "markdown",
   "id": "a79cdaf6",
   "metadata": {},
   "source": [
    "## Build AE model "
   ]
  },
  {
   "cell_type": "code",
   "execution_count": 5,
   "id": "cba94444",
   "metadata": {},
   "outputs": [
    {
     "name": "stdout",
     "output_type": "stream",
     "text": [
      "Model: \"encoder\"\n",
      "_________________________________________________________________\n",
      " Layer (type)                Output Shape              Param #   \n",
      "=================================================================\n",
      " input_1 (InputLayer)        [(None, 28, 28, 1)]       0         \n",
      "                                                                 \n",
      " conv2d (Conv2D)             (None, 14, 14, 32)        320       \n",
      "                                                                 \n",
      " conv2d_1 (Conv2D)           (None, 7, 7, 64)          18496     \n",
      "                                                                 \n",
      " flatten (Flatten)           (None, 3136)              0         \n",
      "                                                                 \n",
      " dense (Dense)               (None, 16)                50192     \n",
      "                                                                 \n",
      " dense_1 (Dense)             (None, 10)                170       \n",
      "                                                                 \n",
      "=================================================================\n",
      "Total params: 69,178\n",
      "Trainable params: 69,178\n",
      "Non-trainable params: 0\n",
      "_________________________________________________________________\n"
     ]
    },
    {
     "name": "stderr",
     "output_type": "stream",
     "text": [
      "2022-08-17 10:44:57.419011: I tensorflow/stream_executor/cuda/cuda_gpu_executor.cc:975] successful NUMA node read from SysFS had negative value (-1), but there must be at least one NUMA node, so returning NUMA node zero\n",
      "2022-08-17 10:44:57.427842: I tensorflow/stream_executor/cuda/cuda_gpu_executor.cc:975] successful NUMA node read from SysFS had negative value (-1), but there must be at least one NUMA node, so returning NUMA node zero\n",
      "2022-08-17 10:44:57.428343: I tensorflow/stream_executor/cuda/cuda_gpu_executor.cc:975] successful NUMA node read from SysFS had negative value (-1), but there must be at least one NUMA node, so returning NUMA node zero\n",
      "2022-08-17 10:44:57.429309: I tensorflow/core/platform/cpu_feature_guard.cc:193] This TensorFlow binary is optimized with oneAPI Deep Neural Network Library (oneDNN) to use the following CPU instructions in performance-critical operations:  AVX2 FMA\n",
      "To enable them in other operations, rebuild TensorFlow with the appropriate compiler flags.\n",
      "2022-08-17 10:44:57.431445: I tensorflow/stream_executor/cuda/cuda_gpu_executor.cc:975] successful NUMA node read from SysFS had negative value (-1), but there must be at least one NUMA node, so returning NUMA node zero\n",
      "2022-08-17 10:44:57.431885: I tensorflow/stream_executor/cuda/cuda_gpu_executor.cc:975] successful NUMA node read from SysFS had negative value (-1), but there must be at least one NUMA node, so returning NUMA node zero\n",
      "2022-08-17 10:44:57.432306: I tensorflow/stream_executor/cuda/cuda_gpu_executor.cc:975] successful NUMA node read from SysFS had negative value (-1), but there must be at least one NUMA node, so returning NUMA node zero\n",
      "2022-08-17 10:44:57.879721: I tensorflow/stream_executor/cuda/cuda_gpu_executor.cc:975] successful NUMA node read from SysFS had negative value (-1), but there must be at least one NUMA node, so returning NUMA node zero\n",
      "2022-08-17 10:44:57.880172: I tensorflow/stream_executor/cuda/cuda_gpu_executor.cc:975] successful NUMA node read from SysFS had negative value (-1), but there must be at least one NUMA node, so returning NUMA node zero\n",
      "2022-08-17 10:44:57.880574: I tensorflow/stream_executor/cuda/cuda_gpu_executor.cc:975] successful NUMA node read from SysFS had negative value (-1), but there must be at least one NUMA node, so returning NUMA node zero\n",
      "2022-08-17 10:44:57.880950: W tensorflow/core/common_runtime/gpu/gpu_bfc_allocator.cc:42] Overriding orig_value setting because the TF_FORCE_GPU_ALLOW_GROWTH environment variable is set. Original config value was 0.\n",
      "2022-08-17 10:44:57.880980: I tensorflow/core/common_runtime/gpu/gpu_device.cc:1532] Created device /job:localhost/replica:0/task:0/device:GPU:0 with 9612 MB memory:  -> device: 0, name: NVIDIA GeForce RTX 2080 Ti, pci bus id: 0000:21:00.0, compute capability: 7.5\n"
     ]
    }
   ],
   "source": [
    "# Encoder\n",
    "\n",
    "inputs    = keras.Input(shape=(28, 28, 1))\n",
    "x         = layers.Conv2D(32, 3, activation=\"relu\", strides=2, padding=\"same\")(inputs)\n",
    "x         = layers.Conv2D(64, 3, activation=\"relu\", strides=2, padding=\"same\")(x)\n",
    "x         = layers.Flatten()(x)\n",
    "x         = layers.Dense(16, activation=\"relu\")(x)\n",
    "z         = layers.Dense(latent_dim)(x)\n",
    "\n",
    "encoder = keras.Model(inputs, z, name=\"encoder\")\n",
    "encoder.summary()"
   ]
  },
  {
   "cell_type": "code",
   "execution_count": 6,
   "id": "e141253f",
   "metadata": {},
   "outputs": [
    {
     "name": "stdout",
     "output_type": "stream",
     "text": [
      "Model: \"decoder\"\n",
      "_________________________________________________________________\n",
      " Layer (type)                Output Shape              Param #   \n",
      "=================================================================\n",
      " input_2 (InputLayer)        [(None, 10)]              0         \n",
      "                                                                 \n",
      " dense_2 (Dense)             (None, 3136)              34496     \n",
      "                                                                 \n",
      " reshape (Reshape)           (None, 7, 7, 64)          0         \n",
      "                                                                 \n",
      " conv2d_transpose (Conv2DTra  (None, 14, 14, 64)       36928     \n",
      " nspose)                                                         \n",
      "                                                                 \n",
      " conv2d_transpose_1 (Conv2DT  (None, 28, 28, 32)       18464     \n",
      " ranspose)                                                       \n",
      "                                                                 \n",
      " conv2d_transpose_2 (Conv2DT  (None, 28, 28, 1)        289       \n",
      " ranspose)                                                       \n",
      "                                                                 \n",
      "=================================================================\n",
      "Total params: 90,177\n",
      "Trainable params: 90,177\n",
      "Non-trainable params: 0\n",
      "_________________________________________________________________\n"
     ]
    }
   ],
   "source": [
    "# Decoder\n",
    "\n",
    "inputs  = keras.Input(shape=(latent_dim,))\n",
    "x       = layers.Dense(7 * 7 * 64, activation=\"relu\")(inputs)\n",
    "x       = layers.Reshape((7, 7, 64))(x)\n",
    "x       = layers.Conv2DTranspose(64, 3, activation=\"relu\", strides=2, padding=\"same\")(x)\n",
    "x       = layers.Conv2DTranspose(32, 3, activation=\"relu\", strides=2, padding=\"same\")(x)\n",
    "outputs = layers.Conv2DTranspose(1, 3, activation=\"sigmoid\", padding=\"same\")(x)\n",
    "\n",
    "decoder = keras.Model(inputs, outputs, name=\"decoder\")\n",
    "decoder.summary()"
   ]
  },
  {
   "cell_type": "code",
   "execution_count": 7,
   "id": "2c485601",
   "metadata": {},
   "outputs": [],
   "source": [
    "# AE\n",
    "\n",
    "inputs    = keras.Input(shape=(28, 28, 1))\n",
    "\n",
    "latents   = encoder(inputs)\n",
    "outputs   = decoder(latents)\n",
    "\n",
    "ae = keras.Model(inputs,outputs, name=\"ae\")\n",
    "\n",
    "ae.compile(optimizer=keras.optimizers.Adam(), loss='binary_crossentropy')"
   ]
  },
  {
   "cell_type": "code",
   "execution_count": 8,
   "id": "96de0d1f",
   "metadata": {},
   "outputs": [],
   "source": [
    "# callbacks\n",
    "\n",
    "\n",
    "filename = model_directory + '/best_model.h5'\n",
    "callback_bestmodel = tf.keras.callbacks.ModelCheckpoint(filepath=filename, verbose=0, save_best_only=True)"
   ]
  },
  {
   "cell_type": "code",
   "execution_count": 9,
   "id": "f1c7fb19",
   "metadata": {},
   "outputs": [
    {
     "name": "stdout",
     "output_type": "stream",
     "text": [
      "Epoch 1/30\n"
     ]
    },
    {
     "name": "stderr",
     "output_type": "stream",
     "text": [
      "2022-08-17 10:44:59.420318: I tensorflow/stream_executor/cuda/cuda_dnn.cc:384] Loaded cuDNN version 8401\n",
      "2022-08-17 10:44:59.815533: I tensorflow/core/platform/default/subprocess.cc:304] Start cannot spawn child process: No such file or directory\n"
     ]
    },
    {
     "name": "stdout",
     "output_type": "stream",
     "text": [
      "438/438 [==============================] - 4s 5ms/step - loss: 0.2676 - val_loss: 0.2130\n",
      "Epoch 2/30\n",
      "438/438 [==============================] - 2s 5ms/step - loss: 0.1872 - val_loss: 0.1739\n",
      "Epoch 3/30\n",
      "438/438 [==============================] - 2s 5ms/step - loss: 0.1691 - val_loss: 0.1642\n",
      "Epoch 4/30\n",
      "438/438 [==============================] - 2s 5ms/step - loss: 0.1606 - val_loss: 0.1576\n",
      "Epoch 5/30\n",
      "438/438 [==============================] - 2s 5ms/step - loss: 0.1558 - val_loss: 0.1548\n",
      "Epoch 6/30\n",
      "438/438 [==============================] - 2s 5ms/step - loss: 0.1532 - val_loss: 0.1537\n",
      "Epoch 7/30\n",
      "438/438 [==============================] - 3s 6ms/step - loss: 0.1512 - val_loss: 0.1524\n",
      "Epoch 8/30\n",
      "438/438 [==============================] - 2s 5ms/step - loss: 0.1500 - val_loss: 0.1509\n",
      "Epoch 9/30\n",
      "438/438 [==============================] - 2s 5ms/step - loss: 0.1487 - val_loss: 0.1505\n",
      "Epoch 10/30\n",
      "438/438 [==============================] - 2s 5ms/step - loss: 0.1478 - val_loss: 0.1503\n",
      "Epoch 11/30\n",
      "438/438 [==============================] - 2s 5ms/step - loss: 0.1470 - val_loss: 0.1502\n",
      "Epoch 12/30\n",
      "438/438 [==============================] - 2s 5ms/step - loss: 0.1463 - val_loss: 0.1493\n",
      "Epoch 13/30\n",
      "438/438 [==============================] - 2s 5ms/step - loss: 0.1457 - val_loss: 0.1490\n",
      "Epoch 14/30\n",
      "438/438 [==============================] - 2s 5ms/step - loss: 0.1453 - val_loss: 0.1488\n",
      "Epoch 15/30\n",
      "438/438 [==============================] - 2s 5ms/step - loss: 0.1447 - val_loss: 0.1484\n",
      "Epoch 16/30\n",
      "438/438 [==============================] - 2s 5ms/step - loss: 0.1443 - val_loss: 0.1485\n",
      "Epoch 17/30\n",
      "438/438 [==============================] - 2s 5ms/step - loss: 0.1438 - val_loss: 0.1486\n",
      "Epoch 18/30\n",
      "438/438 [==============================] - 2s 5ms/step - loss: 0.1434 - val_loss: 0.1484\n",
      "Epoch 19/30\n",
      "438/438 [==============================] - 2s 5ms/step - loss: 0.1430 - val_loss: 0.1480\n",
      "Epoch 20/30\n",
      "438/438 [==============================] - 2s 5ms/step - loss: 0.1428 - val_loss: 0.1484\n",
      "Epoch 21/30\n",
      "438/438 [==============================] - 2s 4ms/step - loss: 0.1424 - val_loss: 0.1490\n",
      "Epoch 22/30\n",
      "438/438 [==============================] - 2s 5ms/step - loss: 0.1421 - val_loss: 0.1485\n",
      "Epoch 23/30\n",
      "438/438 [==============================] - 2s 5ms/step - loss: 0.1418 - val_loss: 0.1484\n",
      "Epoch 24/30\n",
      "438/438 [==============================] - 2s 5ms/step - loss: 0.1416 - val_loss: 0.1482\n",
      "Epoch 25/30\n",
      "438/438 [==============================] - 2s 5ms/step - loss: 0.1414 - val_loss: 0.1488\n",
      "Epoch 26/30\n",
      "438/438 [==============================] - 2s 5ms/step - loss: 0.1411 - val_loss: 0.1484\n",
      "Epoch 27/30\n",
      "438/438 [==============================] - 2s 5ms/step - loss: 0.1408 - val_loss: 0.1485\n",
      "Epoch 28/30\n",
      "438/438 [==============================] - 2s 5ms/step - loss: 0.1406 - val_loss: 0.1486\n",
      "Epoch 29/30\n",
      "438/438 [==============================] - 2s 5ms/step - loss: 0.1404 - val_loss: 0.1487\n",
      "Epoch 30/30\n",
      "438/438 [==============================] - 2s 5ms/step - loss: 0.1402 - val_loss: 0.1485\n"
     ]
    }
   ],
   "source": [
    "history = ae.fit(noisy_train, clean_train,\n",
    "                 batch_size      = batch_size,\n",
    "                 epochs          = epochs,\n",
    "                 verbose         = fit_verbosity,\n",
    "                 validation_data = (noisy_test, clean_test),\n",
    "                 callbacks=[callback_bestmodel])"
   ]
  },
  {
   "cell_type": "code",
   "execution_count": 10,
   "id": "35675ff4",
   "metadata": {},
   "outputs": [
    {
     "data": {
      "image/png": "[encoded data removed]",
      "text/plain": [
       "<Figure size 576x576 with 1 Axes>"
      ]
     },
     "metadata": {
      "needs_background": "light"
     },
     "output_type": "display_data"
    }
   ],
   "source": [
    "loss = history.history['loss']\n",
    "val_loss = history.history['val_loss']\n",
    "\n",
    "epochs_range = range(epochs)\n",
    "\n",
    "plt.figure(figsize=(8, 8))\n",
    "\n",
    "plt.plot(epochs_range, loss, label='Loss')\n",
    "plt.plot(epochs_range, val_loss, label='Val loss')\n",
    "plt.legend(loc='upper right')\n",
    "plt.xlabel(\"epoch\")\n",
    "plt.title('Loss and Val loss')\n",
    "plt.show()"
   ]
  },
  {
   "cell_type": "code",
   "execution_count": 11,
   "id": "5343aa87",
   "metadata": {},
   "outputs": [],
   "source": [
    "def plot(images):\n",
    "    for i in range(7):\n",
    "        plt.subplot(170 + 1 + i)\n",
    "        plt.imshow(images[i], cmap='gray')\n",
    "        plt.axis('off')\n",
    "    # show the figure\n",
    "    plt.show()"
   ]
  },
  {
   "cell_type": "code",
   "execution_count": 12,
   "id": "8f7a6519",
   "metadata": {},
   "outputs": [],
   "source": [
    "model = keras.models.load_model(f'{model_directory}/best_model.h5')"
   ]
  },
  {
   "cell_type": "code",
   "execution_count": 13,
   "id": "34f3741e",
   "metadata": {},
   "outputs": [
    {
     "name": "stdout",
     "output_type": "stream",
     "text": [
      "438/438 [==============================] - 1s 1ms/step\n",
      "Denoised images   (denoised_test) shape :  (14000, 28, 28, 1)\n"
     ]
    }
   ],
   "source": [
    "denoised_test = model.predict(noisy_test)\n",
    "\n",
    "print('Denoised images   (denoised_test) shape : ',denoised_test.shape)"
   ]
  },
  {
   "cell_type": "code",
   "execution_count": 14,
   "id": "d2f7eb5b",
   "metadata": {},
   "outputs": [
    {
     "name": "stdout",
     "output_type": "stream",
     "text": [
      "Noisy test images (input):\n"
     ]
    },
    {
     "data": {
      "image/png": "[encoded data removed]",
      "text/plain": [
       "<Figure size 432x288 with 7 Axes>"
      ]
     },
     "metadata": {
      "needs_background": "light"
     },
     "output_type": "display_data"
    },
    {
     "name": "stdout",
     "output_type": "stream",
     "text": [
      "Denoised images (output):\n"
     ]
    },
    {
     "data": {
      "image/png": "[encoded data removed]",
      "text/plain": [
       "<Figure size 432x288 with 7 Axes>"
      ]
     },
     "metadata": {
      "needs_background": "light"
     },
     "output_type": "display_data"
    },
    {
     "name": "stdout",
     "output_type": "stream",
     "text": [
      "Real test images :\n"
     ]
    },
    {
     "data": {
      "image/png": "[encoded data removed]",
      "text/plain": [
       "<Figure size 432x288 with 7 Axes>"
      ]
     },
     "metadata": {
      "needs_background": "light"
     },
     "output_type": "display_data"
    }
   ],
   "source": [
    "i=random.randint(0,len(denoised_test)-7)\n",
    "j=i+7\n",
    "\n",
    "print('Noisy test images (input):')\n",
    "plot(noisy_test[i:j])\n",
    "\n",
    "print('Denoised images (output):')\n",
    "plot(denoised_test[i:j])\n",
    "\n",
    "print('Real test images :')\n",
    "plot(clean_test[i:j])"
   ]
  },
  {
   "cell_type": "code",
   "execution_count": null,
   "id": "4d0979e1",
   "metadata": {},
   "outputs": [],
   "source": []
  }
 ],
 "metadata": {
  "kernelspec": {
   "display_name": "Python 3 (ipykernel)",
   "language": "python",
   "name": "python3"
  },
  "language_info": {
   "codemirror_mode": {
    "name": "ipython",
    "version": 3
   },
   "file_extension": ".py",
   "mimetype": "text/x-python",
   "name": "python",
   "nbconvert_exporter": "python",
   "pygments_lexer": "ipython3",
   "version": "3.8.10"
  }
 },
 "nbformat": 4,
 "nbformat_minor": 5
}
